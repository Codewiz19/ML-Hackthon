{
 "cells": [
  {
   "cell_type": "code",
   "execution_count": 1,
   "metadata": {},
   "outputs": [],
   "source": [
    "import cv2\n",
    "import os\n",
    "\n",
    "def preprocess_image(image_path, output_path):\n",
    "    img = cv2.imread(image_path)\n",
    "    gray = cv2.cvtColor(img, cv2.COLOR_BGR2GRAY)\n",
    "    _, binary_img = cv2.threshold(gray, 150, 255, cv2.THRESH_BINARY)\n",
    "    cv2.imwrite(output_path, binary_img)\n",
    "\n",
    "def preprocess_images(input_dir, output_dir):\n",
    "    if not os.path.exists(output_dir):\n",
    "        os.makedirs(output_dir)\n",
    "    for filename in os.listdir(input_dir):\n",
    "        if filename.lower().endswith(('.png', '.jpg', '.jpeg')):\n",
    "            preprocess_image(\n",
    "                os.path.join(input_dir, filename),\n",
    "                os.path.join(output_dir, filename)\n",
    "            )\n",
    "\n",
    "input_directory = r\"D:\\Hackathon\\66e31d6ee96cd_student_resource_33\\Weight Detection Model\\images\"\n",
    "output_directory = r\"D:\\Hackathon\\66e31d6ee96cd_student_resource_33\\Weight Detection Model\\Processed Images\"\n",
    "preprocess_images(input_directory, output_directory)\n"
   ]
  }
 ],
 "metadata": {
  "kernelspec": {
   "display_name": "base",
   "language": "python",
   "name": "python3"
  },
  "language_info": {
   "codemirror_mode": {
    "name": "ipython",
    "version": 3
   },
   "file_extension": ".py",
   "mimetype": "text/x-python",
   "name": "python",
   "nbconvert_exporter": "python",
   "pygments_lexer": "ipython3",
   "version": "3.12.3"
  }
 },
 "nbformat": 4,
 "nbformat_minor": 2
}
