{
 "cells": [
  {
   "cell_type": "code",
   "execution_count": 1,
   "metadata": {},
   "outputs": [],
   "source": [
    "import pytesseract\n",
    "from PIL import Image\n",
    "import os\n",
    "\n",
    "\n"
   ]
  },
  {
   "cell_type": "code",
   "execution_count": 5,
   "metadata": {},
   "outputs": [],
   "source": [
    "# Configure path to tesseract executable if needed\n",
    "pytesseract.pytesseract.tesseract_cmd = r'C:\\Program Files\\Tesseract-OCR\\tesseract.exe'\n",
    "\n",
    "def extract_text_from_image(image_path):\n",
    "    img = Image.open(image_path)\n",
    "    return pytesseract.image_to_string(img)\n",
    "\n",
    "def extract_text_from_images(input_dir, output_file):\n",
    "    with open(output_file, 'w') as f:\n",
    "        for filename in os.listdir(input_dir):\n",
    "            if filename.lower().endswith(('.png', '.jpg', '.jpeg')):\n",
    "                text = extract_text_from_image(os.path.join(input_dir, filename))\n",
    "                f.write(f\"{filename}:\\n{text}\\n\\n\")\n",
    "\n",
    "preprocessed_directory = r\"D:\\Hackathon\\66e31d6ee96cd_student_resource_33\\Weight Detection Model\\Processed Images\"\n",
    "text_output_file = r\"D:\\Hackathon\\66e31d6ee96cd_student_resource_33\\Weight Detection Model\\TextfromImg.txt\"\n",
    "extract_text_from_images(preprocessed_directory, text_output_file)"
   ]
  }
 ],
 "metadata": {
  "kernelspec": {
   "display_name": "base",
   "language": "python",
   "name": "python3"
  },
  "language_info": {
   "codemirror_mode": {
    "name": "ipython",
    "version": 3
   },
   "file_extension": ".py",
   "mimetype": "text/x-python",
   "name": "python",
   "nbconvert_exporter": "python",
   "pygments_lexer": "ipython3",
   "version": "3.12.3"
  }
 },
 "nbformat": 4,
 "nbformat_minor": 2
}
