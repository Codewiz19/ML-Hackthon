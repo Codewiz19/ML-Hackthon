{
 "cells": [
  {
   "cell_type": "code",
   "execution_count": 2,
   "metadata": {},
   "outputs": [
    {
     "name": "stderr",
     "output_type": "stream",
     "text": [
      "  5%|▍         | 6197/131187 [20:06<6:26:32,  5.39it/s] "
     ]
    },
    {
     "name": "stdout",
     "output_type": "stream",
     "text": [
      "Error downloading https://m.media-amazon.com/images/I/DzP2RMRQO0.jpg: HTTP Error 400: Bad Request\n",
      "Error downloading https://m.media-amazon.com/images/I/DzP2RMRQO0.jpg: HTTP Error 400: Bad Request\n",
      "Error downloading https://m.media-amazon.com/images/I/DzP2RMRQO0.jpg: HTTP Error 400: Bad Request\n"
     ]
    },
    {
     "name": "stderr",
     "output_type": "stream",
     "text": [
      " 14%|█▍        | 19021/131187 [1:10:35<6:56:14,  4.49it/s] \n"
     ]
    },
    {
     "ename": "KeyboardInterrupt",
     "evalue": "",
     "output_type": "error",
     "traceback": [
      "\u001b[1;31m---------------------------------------------------------------------------\u001b[0m",
      "\u001b[1;31mKeyboardInterrupt\u001b[0m                         Traceback (most recent call last)",
      "Cell \u001b[1;32mIn[2], line 102\u001b[0m\n\u001b[0;32m     99\u001b[0m download_folder \u001b[38;5;241m=\u001b[39m \u001b[38;5;124mr\u001b[39m\u001b[38;5;124m\"\u001b[39m\u001b[38;5;124mD:\u001b[39m\u001b[38;5;124m\\\u001b[39m\u001b[38;5;124mHackathon\u001b[39m\u001b[38;5;124m\\\u001b[39m\u001b[38;5;124m66e31d6ee96cd_student_resource_33\u001b[39m\u001b[38;5;124m\\\u001b[39m\u001b[38;5;124mstudent_resource 3\u001b[39m\u001b[38;5;124m\\\u001b[39m\u001b[38;5;124mdataset\u001b[39m\u001b[38;5;124m\\\u001b[39m\u001b[38;5;124mimages\u001b[39m\u001b[38;5;124m\"\u001b[39m\n\u001b[0;32m    101\u001b[0m \u001b[38;5;66;03m# Step 4: Download images using the provided function\u001b[39;00m\n\u001b[1;32m--> 102\u001b[0m download_images(image_links, download_folder, allow_multiprocessing\u001b[38;5;241m=\u001b[39m\u001b[38;5;28;01mFalse\u001b[39;00m)\n",
      "Cell \u001b[1;32mIn[2], line 86\u001b[0m, in \u001b[0;36mdownload_images\u001b[1;34m(image_links, download_folder, allow_multiprocessing)\u001b[0m\n\u001b[0;32m     84\u001b[0m \u001b[38;5;28;01melse\u001b[39;00m:\n\u001b[0;32m     85\u001b[0m     \u001b[38;5;28;01mfor\u001b[39;00m image_link \u001b[38;5;129;01min\u001b[39;00m tqdm(image_links, total\u001b[38;5;241m=\u001b[39m\u001b[38;5;28mlen\u001b[39m(image_links)):\n\u001b[1;32m---> 86\u001b[0m         download_image(image_link, save_folder\u001b[38;5;241m=\u001b[39mdownload_folder, retries\u001b[38;5;241m=\u001b[39m\u001b[38;5;241m3\u001b[39m, delay\u001b[38;5;241m=\u001b[39m\u001b[38;5;241m3\u001b[39m)\n",
      "Cell \u001b[1;32mIn[2], line 58\u001b[0m, in \u001b[0;36mdownload_image\u001b[1;34m(image_link, save_folder, retries, delay)\u001b[0m\n\u001b[0;32m     56\u001b[0m \u001b[38;5;28;01mfor\u001b[39;00m _ \u001b[38;5;129;01min\u001b[39;00m \u001b[38;5;28mrange\u001b[39m(retries):\n\u001b[0;32m     57\u001b[0m     \u001b[38;5;28;01mtry\u001b[39;00m:\n\u001b[1;32m---> 58\u001b[0m         urllib\u001b[38;5;241m.\u001b[39mrequest\u001b[38;5;241m.\u001b[39murlretrieve(image_link, image_save_path)\n\u001b[0;32m     59\u001b[0m         \u001b[38;5;28;01mreturn\u001b[39;00m\n\u001b[0;32m     60\u001b[0m     \u001b[38;5;28;01mexcept\u001b[39;00m \u001b[38;5;167;01mException\u001b[39;00m \u001b[38;5;28;01mas\u001b[39;00m e:\n",
      "File \u001b[1;32mc:\\Users\\Abhishek Patil\\anaconda3\\Lib\\urllib\\request.py:240\u001b[0m, in \u001b[0;36murlretrieve\u001b[1;34m(url, filename, reporthook, data)\u001b[0m\n\u001b[0;32m    223\u001b[0m \u001b[38;5;250m\u001b[39m\u001b[38;5;124;03m\"\"\"\u001b[39;00m\n\u001b[0;32m    224\u001b[0m \u001b[38;5;124;03mRetrieve a URL into a temporary location on disk.\u001b[39;00m\n\u001b[0;32m    225\u001b[0m \n\u001b[1;32m   (...)\u001b[0m\n\u001b[0;32m    236\u001b[0m \u001b[38;5;124;03mdata file as well as the resulting HTTPMessage object.\u001b[39;00m\n\u001b[0;32m    237\u001b[0m \u001b[38;5;124;03m\"\"\"\u001b[39;00m\n\u001b[0;32m    238\u001b[0m url_type, path \u001b[38;5;241m=\u001b[39m _splittype(url)\n\u001b[1;32m--> 240\u001b[0m \u001b[38;5;28;01mwith\u001b[39;00m contextlib\u001b[38;5;241m.\u001b[39mclosing(urlopen(url, data)) \u001b[38;5;28;01mas\u001b[39;00m fp:\n\u001b[0;32m    241\u001b[0m     headers \u001b[38;5;241m=\u001b[39m fp\u001b[38;5;241m.\u001b[39minfo()\n\u001b[0;32m    243\u001b[0m     \u001b[38;5;66;03m# Just return the local path and the \"headers\" for file://\u001b[39;00m\n\u001b[0;32m    244\u001b[0m     \u001b[38;5;66;03m# URLs. No sense in performing a copy unless requested.\u001b[39;00m\n",
      "File \u001b[1;32mc:\\Users\\Abhishek Patil\\anaconda3\\Lib\\urllib\\request.py:215\u001b[0m, in \u001b[0;36murlopen\u001b[1;34m(url, data, timeout, cafile, capath, cadefault, context)\u001b[0m\n\u001b[0;32m    213\u001b[0m \u001b[38;5;28;01melse\u001b[39;00m:\n\u001b[0;32m    214\u001b[0m     opener \u001b[38;5;241m=\u001b[39m _opener\n\u001b[1;32m--> 215\u001b[0m \u001b[38;5;28;01mreturn\u001b[39;00m opener\u001b[38;5;241m.\u001b[39mopen(url, data, timeout)\n",
      "File \u001b[1;32mc:\\Users\\Abhishek Patil\\anaconda3\\Lib\\urllib\\request.py:515\u001b[0m, in \u001b[0;36mOpenerDirector.open\u001b[1;34m(self, fullurl, data, timeout)\u001b[0m\n\u001b[0;32m    512\u001b[0m     req \u001b[38;5;241m=\u001b[39m meth(req)\n\u001b[0;32m    514\u001b[0m sys\u001b[38;5;241m.\u001b[39maudit(\u001b[38;5;124m'\u001b[39m\u001b[38;5;124murllib.Request\u001b[39m\u001b[38;5;124m'\u001b[39m, req\u001b[38;5;241m.\u001b[39mfull_url, req\u001b[38;5;241m.\u001b[39mdata, req\u001b[38;5;241m.\u001b[39mheaders, req\u001b[38;5;241m.\u001b[39mget_method())\n\u001b[1;32m--> 515\u001b[0m response \u001b[38;5;241m=\u001b[39m \u001b[38;5;28mself\u001b[39m\u001b[38;5;241m.\u001b[39m_open(req, data)\n\u001b[0;32m    517\u001b[0m \u001b[38;5;66;03m# post-process response\u001b[39;00m\n\u001b[0;32m    518\u001b[0m meth_name \u001b[38;5;241m=\u001b[39m protocol\u001b[38;5;241m+\u001b[39m\u001b[38;5;124m\"\u001b[39m\u001b[38;5;124m_response\u001b[39m\u001b[38;5;124m\"\u001b[39m\n",
      "File \u001b[1;32mc:\\Users\\Abhishek Patil\\anaconda3\\Lib\\urllib\\request.py:532\u001b[0m, in \u001b[0;36mOpenerDirector._open\u001b[1;34m(self, req, data)\u001b[0m\n\u001b[0;32m    529\u001b[0m     \u001b[38;5;28;01mreturn\u001b[39;00m result\n\u001b[0;32m    531\u001b[0m protocol \u001b[38;5;241m=\u001b[39m req\u001b[38;5;241m.\u001b[39mtype\n\u001b[1;32m--> 532\u001b[0m result \u001b[38;5;241m=\u001b[39m \u001b[38;5;28mself\u001b[39m\u001b[38;5;241m.\u001b[39m_call_chain(\u001b[38;5;28mself\u001b[39m\u001b[38;5;241m.\u001b[39mhandle_open, protocol, protocol \u001b[38;5;241m+\u001b[39m\n\u001b[0;32m    533\u001b[0m                           \u001b[38;5;124m'\u001b[39m\u001b[38;5;124m_open\u001b[39m\u001b[38;5;124m'\u001b[39m, req)\n\u001b[0;32m    534\u001b[0m \u001b[38;5;28;01mif\u001b[39;00m result:\n\u001b[0;32m    535\u001b[0m     \u001b[38;5;28;01mreturn\u001b[39;00m result\n",
      "File \u001b[1;32mc:\\Users\\Abhishek Patil\\anaconda3\\Lib\\urllib\\request.py:492\u001b[0m, in \u001b[0;36mOpenerDirector._call_chain\u001b[1;34m(self, chain, kind, meth_name, *args)\u001b[0m\n\u001b[0;32m    490\u001b[0m \u001b[38;5;28;01mfor\u001b[39;00m handler \u001b[38;5;129;01min\u001b[39;00m handlers:\n\u001b[0;32m    491\u001b[0m     func \u001b[38;5;241m=\u001b[39m \u001b[38;5;28mgetattr\u001b[39m(handler, meth_name)\n\u001b[1;32m--> 492\u001b[0m     result \u001b[38;5;241m=\u001b[39m func(\u001b[38;5;241m*\u001b[39margs)\n\u001b[0;32m    493\u001b[0m     \u001b[38;5;28;01mif\u001b[39;00m result \u001b[38;5;129;01mis\u001b[39;00m \u001b[38;5;129;01mnot\u001b[39;00m \u001b[38;5;28;01mNone\u001b[39;00m:\n\u001b[0;32m    494\u001b[0m         \u001b[38;5;28;01mreturn\u001b[39;00m result\n",
      "File \u001b[1;32mc:\\Users\\Abhishek Patil\\anaconda3\\Lib\\urllib\\request.py:1392\u001b[0m, in \u001b[0;36mHTTPSHandler.https_open\u001b[1;34m(self, req)\u001b[0m\n\u001b[0;32m   1391\u001b[0m \u001b[38;5;28;01mdef\u001b[39;00m \u001b[38;5;21mhttps_open\u001b[39m(\u001b[38;5;28mself\u001b[39m, req):\n\u001b[1;32m-> 1392\u001b[0m     \u001b[38;5;28;01mreturn\u001b[39;00m \u001b[38;5;28mself\u001b[39m\u001b[38;5;241m.\u001b[39mdo_open(http\u001b[38;5;241m.\u001b[39mclient\u001b[38;5;241m.\u001b[39mHTTPSConnection, req,\n\u001b[0;32m   1393\u001b[0m                         context\u001b[38;5;241m=\u001b[39m\u001b[38;5;28mself\u001b[39m\u001b[38;5;241m.\u001b[39m_context)\n",
      "File \u001b[1;32mc:\\Users\\Abhishek Patil\\anaconda3\\Lib\\urllib\\request.py:1348\u001b[0m, in \u001b[0;36mAbstractHTTPHandler.do_open\u001b[1;34m(self, http_class, req, **http_conn_args)\u001b[0m\n\u001b[0;32m   1346\u001b[0m     \u001b[38;5;28;01mexcept\u001b[39;00m \u001b[38;5;167;01mOSError\u001b[39;00m \u001b[38;5;28;01mas\u001b[39;00m err: \u001b[38;5;66;03m# timeout error\u001b[39;00m\n\u001b[0;32m   1347\u001b[0m         \u001b[38;5;28;01mraise\u001b[39;00m URLError(err)\n\u001b[1;32m-> 1348\u001b[0m     r \u001b[38;5;241m=\u001b[39m h\u001b[38;5;241m.\u001b[39mgetresponse()\n\u001b[0;32m   1349\u001b[0m \u001b[38;5;28;01mexcept\u001b[39;00m:\n\u001b[0;32m   1350\u001b[0m     h\u001b[38;5;241m.\u001b[39mclose()\n",
      "File \u001b[1;32mc:\\Users\\Abhishek Patil\\anaconda3\\Lib\\http\\client.py:1428\u001b[0m, in \u001b[0;36mHTTPConnection.getresponse\u001b[1;34m(self)\u001b[0m\n\u001b[0;32m   1426\u001b[0m \u001b[38;5;28;01mtry\u001b[39;00m:\n\u001b[0;32m   1427\u001b[0m     \u001b[38;5;28;01mtry\u001b[39;00m:\n\u001b[1;32m-> 1428\u001b[0m         response\u001b[38;5;241m.\u001b[39mbegin()\n\u001b[0;32m   1429\u001b[0m     \u001b[38;5;28;01mexcept\u001b[39;00m \u001b[38;5;167;01mConnectionError\u001b[39;00m:\n\u001b[0;32m   1430\u001b[0m         \u001b[38;5;28mself\u001b[39m\u001b[38;5;241m.\u001b[39mclose()\n",
      "File \u001b[1;32mc:\\Users\\Abhishek Patil\\anaconda3\\Lib\\http\\client.py:331\u001b[0m, in \u001b[0;36mHTTPResponse.begin\u001b[1;34m(self)\u001b[0m\n\u001b[0;32m    329\u001b[0m \u001b[38;5;66;03m# read until we get a non-100 response\u001b[39;00m\n\u001b[0;32m    330\u001b[0m \u001b[38;5;28;01mwhile\u001b[39;00m \u001b[38;5;28;01mTrue\u001b[39;00m:\n\u001b[1;32m--> 331\u001b[0m     version, status, reason \u001b[38;5;241m=\u001b[39m \u001b[38;5;28mself\u001b[39m\u001b[38;5;241m.\u001b[39m_read_status()\n\u001b[0;32m    332\u001b[0m     \u001b[38;5;28;01mif\u001b[39;00m status \u001b[38;5;241m!=\u001b[39m CONTINUE:\n\u001b[0;32m    333\u001b[0m         \u001b[38;5;28;01mbreak\u001b[39;00m\n",
      "File \u001b[1;32mc:\\Users\\Abhishek Patil\\anaconda3\\Lib\\http\\client.py:292\u001b[0m, in \u001b[0;36mHTTPResponse._read_status\u001b[1;34m(self)\u001b[0m\n\u001b[0;32m    291\u001b[0m \u001b[38;5;28;01mdef\u001b[39;00m \u001b[38;5;21m_read_status\u001b[39m(\u001b[38;5;28mself\u001b[39m):\n\u001b[1;32m--> 292\u001b[0m     line \u001b[38;5;241m=\u001b[39m \u001b[38;5;28mstr\u001b[39m(\u001b[38;5;28mself\u001b[39m\u001b[38;5;241m.\u001b[39mfp\u001b[38;5;241m.\u001b[39mreadline(_MAXLINE \u001b[38;5;241m+\u001b[39m \u001b[38;5;241m1\u001b[39m), \u001b[38;5;124m\"\u001b[39m\u001b[38;5;124miso-8859-1\u001b[39m\u001b[38;5;124m\"\u001b[39m)\n\u001b[0;32m    293\u001b[0m     \u001b[38;5;28;01mif\u001b[39;00m \u001b[38;5;28mlen\u001b[39m(line) \u001b[38;5;241m>\u001b[39m _MAXLINE:\n\u001b[0;32m    294\u001b[0m         \u001b[38;5;28;01mraise\u001b[39;00m LineTooLong(\u001b[38;5;124m\"\u001b[39m\u001b[38;5;124mstatus line\u001b[39m\u001b[38;5;124m\"\u001b[39m)\n",
      "File \u001b[1;32mc:\\Users\\Abhishek Patil\\anaconda3\\Lib\\socket.py:707\u001b[0m, in \u001b[0;36mSocketIO.readinto\u001b[1;34m(self, b)\u001b[0m\n\u001b[0;32m    705\u001b[0m \u001b[38;5;28;01mwhile\u001b[39;00m \u001b[38;5;28;01mTrue\u001b[39;00m:\n\u001b[0;32m    706\u001b[0m     \u001b[38;5;28;01mtry\u001b[39;00m:\n\u001b[1;32m--> 707\u001b[0m         \u001b[38;5;28;01mreturn\u001b[39;00m \u001b[38;5;28mself\u001b[39m\u001b[38;5;241m.\u001b[39m_sock\u001b[38;5;241m.\u001b[39mrecv_into(b)\n\u001b[0;32m    708\u001b[0m     \u001b[38;5;28;01mexcept\u001b[39;00m timeout:\n\u001b[0;32m    709\u001b[0m         \u001b[38;5;28mself\u001b[39m\u001b[38;5;241m.\u001b[39m_timeout_occurred \u001b[38;5;241m=\u001b[39m \u001b[38;5;28;01mTrue\u001b[39;00m\n",
      "File \u001b[1;32mc:\\Users\\Abhishek Patil\\anaconda3\\Lib\\ssl.py:1252\u001b[0m, in \u001b[0;36mSSLSocket.recv_into\u001b[1;34m(self, buffer, nbytes, flags)\u001b[0m\n\u001b[0;32m   1248\u001b[0m     \u001b[38;5;28;01mif\u001b[39;00m flags \u001b[38;5;241m!=\u001b[39m \u001b[38;5;241m0\u001b[39m:\n\u001b[0;32m   1249\u001b[0m         \u001b[38;5;28;01mraise\u001b[39;00m \u001b[38;5;167;01mValueError\u001b[39;00m(\n\u001b[0;32m   1250\u001b[0m           \u001b[38;5;124m\"\u001b[39m\u001b[38;5;124mnon-zero flags not allowed in calls to recv_into() on \u001b[39m\u001b[38;5;132;01m%s\u001b[39;00m\u001b[38;5;124m\"\u001b[39m \u001b[38;5;241m%\u001b[39m\n\u001b[0;32m   1251\u001b[0m           \u001b[38;5;28mself\u001b[39m\u001b[38;5;241m.\u001b[39m\u001b[38;5;18m__class__\u001b[39m)\n\u001b[1;32m-> 1252\u001b[0m     \u001b[38;5;28;01mreturn\u001b[39;00m \u001b[38;5;28mself\u001b[39m\u001b[38;5;241m.\u001b[39mread(nbytes, buffer)\n\u001b[0;32m   1253\u001b[0m \u001b[38;5;28;01melse\u001b[39;00m:\n\u001b[0;32m   1254\u001b[0m     \u001b[38;5;28;01mreturn\u001b[39;00m \u001b[38;5;28msuper\u001b[39m()\u001b[38;5;241m.\u001b[39mrecv_into(buffer, nbytes, flags)\n",
      "File \u001b[1;32mc:\\Users\\Abhishek Patil\\anaconda3\\Lib\\ssl.py:1104\u001b[0m, in \u001b[0;36mSSLSocket.read\u001b[1;34m(self, len, buffer)\u001b[0m\n\u001b[0;32m   1102\u001b[0m \u001b[38;5;28;01mtry\u001b[39;00m:\n\u001b[0;32m   1103\u001b[0m     \u001b[38;5;28;01mif\u001b[39;00m buffer \u001b[38;5;129;01mis\u001b[39;00m \u001b[38;5;129;01mnot\u001b[39;00m \u001b[38;5;28;01mNone\u001b[39;00m:\n\u001b[1;32m-> 1104\u001b[0m         \u001b[38;5;28;01mreturn\u001b[39;00m \u001b[38;5;28mself\u001b[39m\u001b[38;5;241m.\u001b[39m_sslobj\u001b[38;5;241m.\u001b[39mread(\u001b[38;5;28mlen\u001b[39m, buffer)\n\u001b[0;32m   1105\u001b[0m     \u001b[38;5;28;01melse\u001b[39;00m:\n\u001b[0;32m   1106\u001b[0m         \u001b[38;5;28;01mreturn\u001b[39;00m \u001b[38;5;28mself\u001b[39m\u001b[38;5;241m.\u001b[39m_sslobj\u001b[38;5;241m.\u001b[39mread(\u001b[38;5;28mlen\u001b[39m)\n",
      "\u001b[1;31mKeyboardInterrupt\u001b[0m: "
     ]
    }
   ],
   "source": [
    "import re\n",
    "import constants\n",
    "import os\n",
    "import pandas as pd\n",
    "import multiprocessing\n",
    "import time\n",
    "from tqdm import tqdm\n",
    "from pathlib import Path\n",
    "from functools import partial\n",
    "import urllib.request\n",
    "from PIL import Image\n",
    "\n",
    "def common_mistake(unit):\n",
    "    if unit in constants.allowed_units:\n",
    "        return unit\n",
    "    if unit.replace('ter', 'tre') in constants.allowed_units:\n",
    "        return unit.replace('ter', 'tre')\n",
    "    if unit.replace('feet', 'foot') in constants.allowed_units:\n",
    "        return unit.replace('feet', 'foot')\n",
    "    return unit\n",
    "\n",
    "def parse_string(s):\n",
    "    s_stripped = \"\" if s is None or str(s) == 'nan' else s.strip()\n",
    "    if s_stripped == \"\":\n",
    "        return None, None\n",
    "    pattern = re.compile(r'^-?\\d+(\\.\\d+)?\\s+[a-zA-Z\\s]+$')\n",
    "    if not pattern.match(s_stripped):\n",
    "        raise ValueError(f\"Invalid format in {s}\")\n",
    "    parts = s_stripped.split(maxsplit=1)\n",
    "    number = float(parts[0])\n",
    "    unit = common_mistake(parts[1])\n",
    "    if unit not in constants.allowed_units:\n",
    "        raise ValueError(f\"Invalid unit [{unit}] found in {s}. Allowed units: {constants.allowed_units}\")\n",
    "    return number, unit\n",
    "\n",
    "def create_placeholder_image(image_save_path):\n",
    "    try:\n",
    "        placeholder_image = Image.new('RGB', (100, 100), color='black')\n",
    "        placeholder_image.save(image_save_path)\n",
    "    except Exception as e:\n",
    "        print(f\"Error creating placeholder image: {e}\")\n",
    "\n",
    "def download_image(image_link, save_folder, retries=3, delay=3):\n",
    "    if not isinstance(image_link, str) or not image_link.strip():\n",
    "        print(f\"Skipping invalid image link: {image_link}\")\n",
    "        return\n",
    "\n",
    "    try:\n",
    "        filename = Path(image_link).name\n",
    "        image_save_path = os.path.join(save_folder, filename)\n",
    "\n",
    "        if os.path.exists(image_save_path):\n",
    "            print(f\"Image already exists: {image_save_path}\")\n",
    "            return\n",
    "\n",
    "        for _ in range(retries):\n",
    "            try:\n",
    "                urllib.request.urlretrieve(image_link, image_save_path)\n",
    "                return\n",
    "            except Exception as e:\n",
    "                print(f\"Error downloading {image_link}: {e}\")\n",
    "                time.sleep(delay)\n",
    "\n",
    "        # Create a placeholder image if all download attempts fail\n",
    "        create_placeholder_image(image_save_path)\n",
    "    except Exception as e:\n",
    "        print(f\"Unhandled error with link {image_link}: {e}\")\n",
    "\n",
    "def download_images(image_links, download_folder, allow_multiprocessing=True):\n",
    "    if not os.path.exists(download_folder):\n",
    "        os.makedirs(download_folder)\n",
    "\n",
    "    if allow_multiprocessing:\n",
    "        download_image_partial = partial(\n",
    "            download_image, save_folder=download_folder, retries=3, delay=3)\n",
    "\n",
    "        # Set the number of workers to 60 or lower to avoid the issue on Windows\n",
    "        num_workers = min(60, multiprocessing.cpu_count())\n",
    "\n",
    "        with multiprocessing.Pool(num_workers) as pool:\n",
    "            list(tqdm(pool.imap(download_image_partial, image_links), total=len(image_links)))\n",
    "            pool.close()\n",
    "            pool.join()\n",
    "    else:\n",
    "        for image_link in tqdm(image_links, total=len(image_links)):\n",
    "            download_image(image_link, save_folder=download_folder, retries=3, delay=3)\n",
    "\n",
    "# Step 1: Read cleaned data from CSV\n",
    "cleaned_csv_path = r\"D:\\Hackathon\\66e31d6ee96cd_student_resource_33\\student_resource 3\\dataset\\Weightt_cleaned.csv\"\n",
    "\n",
    "# Load the CSV file into a DataFrame, ensuring low_memory is set to False to handle mixed data types properly\n",
    "df = pd.read_csv(cleaned_csv_path, low_memory=False)\n",
    "\n",
    "# Step 2: Extract image links from the 'img_link' column\n",
    "# Convert all values to strings, drop NaNs, and strip whitespace to clean the links\n",
    "image_links = df['image_link'].astype(str).dropna().map(str.strip).tolist()\n",
    "\n",
    "# Step 3: Set the folder where images will be downloaded\n",
    "download_folder = r\"D:\\Hackathon\\66e31d6ee96cd_student_resource_33\\student_resource 3\\dataset\\images\"\n",
    "\n",
    "# Step 4: Download images using the provided function\n",
    "download_images(image_links, download_folder, allow_multiprocessing=False)\n"
   ]
  },
  {
   "cell_type": "code",
   "execution_count": 1,
   "metadata": {},
   "outputs": [
    {
     "name": "stderr",
     "output_type": "stream",
     "text": [
      "  0%|          | 0/30 [00:00<?, ?it/s]"
     ]
    },
    {
     "name": "stdout",
     "output_type": "stream",
     "text": [
      "Attempting to download image from https://m.media-amazon.com/images/I/61I9XdN6OFL.jpg\n"
     ]
    },
    {
     "name": "stderr",
     "output_type": "stream",
     "text": [
      "  7%|▋         | 2/30 [00:00<00:08,  3.12it/s]"
     ]
    },
    {
     "name": "stdout",
     "output_type": "stream",
     "text": [
      "Downloaded https://m.media-amazon.com/images/I/61I9XdN6OFL.jpg to D:\\Hackathon\\66e31d6ee96cd_student_resource_33\\student_resource 3\\dataset\\images\\61I9XdN6OFL.jpg\n",
      "Attempting to download image from https://m.media-amazon.com/images/I/61BZ4zrjZXL.jpg\n",
      "Downloaded https://m.media-amazon.com/images/I/61BZ4zrjZXL.jpg to D:\\Hackathon\\66e31d6ee96cd_student_resource_33\\student_resource 3\\dataset\\images\\61BZ4zrjZXL.jpg\n",
      "Attempting to download image from https://m.media-amazon.com/images/I/612mrlqiI4L.jpg\n"
     ]
    },
    {
     "name": "stderr",
     "output_type": "stream",
     "text": [
      " 13%|█▎        | 4/30 [00:00<00:05,  5.16it/s]"
     ]
    },
    {
     "name": "stdout",
     "output_type": "stream",
     "text": [
      "Downloaded https://m.media-amazon.com/images/I/612mrlqiI4L.jpg to D:\\Hackathon\\66e31d6ee96cd_student_resource_33\\student_resource 3\\dataset\\images\\612mrlqiI4L.jpg\n",
      "Attempting to download image from https://m.media-amazon.com/images/I/617Tl40LOXL.jpg\n",
      "Downloaded https://m.media-amazon.com/images/I/617Tl40LOXL.jpg to D:\\Hackathon\\66e31d6ee96cd_student_resource_33\\student_resource 3\\dataset\\images\\617Tl40LOXL.jpg\n",
      "Attempting to download image from https://m.media-amazon.com/images/I/61QsBSE7jgL.jpg\n"
     ]
    },
    {
     "name": "stderr",
     "output_type": "stream",
     "text": [
      " 17%|█▋        | 5/30 [00:01<00:04,  5.15it/s]"
     ]
    },
    {
     "name": "stdout",
     "output_type": "stream",
     "text": [
      "Downloaded https://m.media-amazon.com/images/I/61QsBSE7jgL.jpg to D:\\Hackathon\\66e31d6ee96cd_student_resource_33\\student_resource 3\\dataset\\images\\61QsBSE7jgL.jpg\n",
      "Attempting to download image from https://m.media-amazon.com/images/I/81xsq6vf2qL.jpg\n"
     ]
    },
    {
     "name": "stderr",
     "output_type": "stream",
     "text": [
      " 20%|██        | 6/30 [00:01<00:05,  4.68it/s]"
     ]
    },
    {
     "name": "stdout",
     "output_type": "stream",
     "text": [
      "Downloaded https://m.media-amazon.com/images/I/81xsq6vf2qL.jpg to D:\\Hackathon\\66e31d6ee96cd_student_resource_33\\student_resource 3\\dataset\\images\\81xsq6vf2qL.jpg\n",
      "Attempting to download image from https://m.media-amazon.com/images/I/71DiLRHeZdL.jpg\n"
     ]
    },
    {
     "name": "stderr",
     "output_type": "stream",
     "text": [
      " 23%|██▎       | 7/30 [00:01<00:05,  4.25it/s]"
     ]
    },
    {
     "name": "stdout",
     "output_type": "stream",
     "text": [
      "Downloaded https://m.media-amazon.com/images/I/71DiLRHeZdL.jpg to D:\\Hackathon\\66e31d6ee96cd_student_resource_33\\student_resource 3\\dataset\\images\\71DiLRHeZdL.jpg\n",
      "Attempting to download image from https://m.media-amazon.com/images/I/91Cma3RzseL.jpg\n"
     ]
    },
    {
     "name": "stderr",
     "output_type": "stream",
     "text": [
      " 30%|███       | 9/30 [00:02<00:05,  3.99it/s]"
     ]
    },
    {
     "name": "stdout",
     "output_type": "stream",
     "text": [
      "Downloaded https://m.media-amazon.com/images/I/91Cma3RzseL.jpg to D:\\Hackathon\\66e31d6ee96cd_student_resource_33\\student_resource 3\\dataset\\images\\91Cma3RzseL.jpg\n",
      "Attempting to download image from https://m.media-amazon.com/images/I/71jBLhmTNlL.jpg\n",
      "Downloaded https://m.media-amazon.com/images/I/71jBLhmTNlL.jpg to D:\\Hackathon\\66e31d6ee96cd_student_resource_33\\student_resource 3\\dataset\\images\\71jBLhmTNlL.jpg\n",
      "Attempting to download image from https://m.media-amazon.com/images/I/81N73b5khVL.jpg\n"
     ]
    },
    {
     "name": "stderr",
     "output_type": "stream",
     "text": [
      " 37%|███▋      | 11/30 [00:02<00:04,  4.66it/s]"
     ]
    },
    {
     "name": "stdout",
     "output_type": "stream",
     "text": [
      "Downloaded https://m.media-amazon.com/images/I/81N73b5khVL.jpg to D:\\Hackathon\\66e31d6ee96cd_student_resource_33\\student_resource 3\\dataset\\images\\81N73b5khVL.jpg\n",
      "Attempting to download image from https://m.media-amazon.com/images/I/61oMj2iXOuL.jpg\n",
      "Downloaded https://m.media-amazon.com/images/I/61oMj2iXOuL.jpg to D:\\Hackathon\\66e31d6ee96cd_student_resource_33\\student_resource 3\\dataset\\images\\61oMj2iXOuL.jpg\n",
      "Attempting to download image from https://m.media-amazon.com/images/I/91LPf6OjV9L.jpg\n"
     ]
    },
    {
     "name": "stderr",
     "output_type": "stream",
     "text": [
      " 43%|████▎     | 13/30 [00:03<00:04,  4.00it/s]"
     ]
    },
    {
     "name": "stdout",
     "output_type": "stream",
     "text": [
      "Downloaded https://m.media-amazon.com/images/I/91LPf6OjV9L.jpg to D:\\Hackathon\\66e31d6ee96cd_student_resource_33\\student_resource 3\\dataset\\images\\91LPf6OjV9L.jpg\n",
      "Attempting to download image from https://m.media-amazon.com/images/I/81fOxWWWKYL.jpg\n",
      "Downloaded https://m.media-amazon.com/images/I/81fOxWWWKYL.jpg to D:\\Hackathon\\66e31d6ee96cd_student_resource_33\\student_resource 3\\dataset\\images\\81fOxWWWKYL.jpg\n",
      "Attempting to download image from https://m.media-amazon.com/images/I/81dzao1Ob4L.jpg\n"
     ]
    },
    {
     "name": "stderr",
     "output_type": "stream",
     "text": [
      " 47%|████▋     | 14/30 [00:03<00:04,  3.95it/s]"
     ]
    },
    {
     "name": "stdout",
     "output_type": "stream",
     "text": [
      "Downloaded https://m.media-amazon.com/images/I/81dzao1Ob4L.jpg to D:\\Hackathon\\66e31d6ee96cd_student_resource_33\\student_resource 3\\dataset\\images\\81dzao1Ob4L.jpg\n",
      "Attempting to download image from https://m.media-amazon.com/images/I/91-iahVGEDL.jpg\n"
     ]
    },
    {
     "name": "stderr",
     "output_type": "stream",
     "text": [
      " 50%|█████     | 15/30 [00:03<00:03,  4.11it/s]"
     ]
    },
    {
     "name": "stdout",
     "output_type": "stream",
     "text": [
      "Downloaded https://m.media-amazon.com/images/I/91-iahVGEDL.jpg to D:\\Hackathon\\66e31d6ee96cd_student_resource_33\\student_resource 3\\dataset\\images\\91-iahVGEDL.jpg\n",
      "Attempting to download image from https://m.media-amazon.com/images/I/81S2+GnYpTL.jpg\n"
     ]
    },
    {
     "name": "stderr",
     "output_type": "stream",
     "text": [
      " 53%|█████▎    | 16/30 [00:03<00:03,  4.17it/s]"
     ]
    },
    {
     "name": "stdout",
     "output_type": "stream",
     "text": [
      "Downloaded https://m.media-amazon.com/images/I/81S2+GnYpTL.jpg to D:\\Hackathon\\66e31d6ee96cd_student_resource_33\\student_resource 3\\dataset\\images\\81S2+GnYpTL.jpg\n",
      "Attempting to download image from https://m.media-amazon.com/images/I/81e2YtCOKvL.jpg\n"
     ]
    },
    {
     "name": "stderr",
     "output_type": "stream",
     "text": [
      " 57%|█████▋    | 17/30 [00:04<00:03,  4.04it/s]"
     ]
    },
    {
     "name": "stdout",
     "output_type": "stream",
     "text": [
      "Downloaded https://m.media-amazon.com/images/I/81e2YtCOKvL.jpg to D:\\Hackathon\\66e31d6ee96cd_student_resource_33\\student_resource 3\\dataset\\images\\81e2YtCOKvL.jpg\n",
      "Attempting to download image from https://m.media-amazon.com/images/I/81RNsNEM1EL.jpg\n"
     ]
    },
    {
     "name": "stderr",
     "output_type": "stream",
     "text": [
      " 60%|██████    | 18/30 [00:04<00:02,  4.04it/s]"
     ]
    },
    {
     "name": "stdout",
     "output_type": "stream",
     "text": [
      "Downloaded https://m.media-amazon.com/images/I/81RNsNEM1EL.jpg to D:\\Hackathon\\66e31d6ee96cd_student_resource_33\\student_resource 3\\dataset\\images\\81RNsNEM1EL.jpg\n",
      "Attempting to download image from https://m.media-amazon.com/images/I/91prZeizZnL.jpg\n"
     ]
    },
    {
     "name": "stderr",
     "output_type": "stream",
     "text": [
      " 67%|██████▋   | 20/30 [00:04<00:02,  4.24it/s]"
     ]
    },
    {
     "name": "stdout",
     "output_type": "stream",
     "text": [
      "Downloaded https://m.media-amazon.com/images/I/91prZeizZnL.jpg to D:\\Hackathon\\66e31d6ee96cd_student_resource_33\\student_resource 3\\dataset\\images\\91prZeizZnL.jpg\n",
      "Attempting to download image from https://m.media-amazon.com/images/I/31EvJszFVfL.jpg\n",
      "Downloaded https://m.media-amazon.com/images/I/31EvJszFVfL.jpg to D:\\Hackathon\\66e31d6ee96cd_student_resource_33\\student_resource 3\\dataset\\images\\31EvJszFVfL.jpg\n",
      "Attempting to download image from https://m.media-amazon.com/images/I/61sQ+qAKr4L.jpg\n"
     ]
    },
    {
     "name": "stderr",
     "output_type": "stream",
     "text": [
      " 73%|███████▎  | 22/30 [00:05<00:01,  4.94it/s]"
     ]
    },
    {
     "name": "stdout",
     "output_type": "stream",
     "text": [
      "Downloaded https://m.media-amazon.com/images/I/61sQ+qAKr4L.jpg to D:\\Hackathon\\66e31d6ee96cd_student_resource_33\\student_resource 3\\dataset\\images\\61sQ+qAKr4L.jpg\n",
      "Attempting to download image from https://m.media-amazon.com/images/I/81x77l2T5NL.jpg\n",
      "Downloaded https://m.media-amazon.com/images/I/81x77l2T5NL.jpg to D:\\Hackathon\\66e31d6ee96cd_student_resource_33\\student_resource 3\\dataset\\images\\81x77l2T5NL.jpg\n",
      "Attempting to download image from https://m.media-amazon.com/images/I/71nywfWZUwL.jpg\n"
     ]
    },
    {
     "name": "stderr",
     "output_type": "stream",
     "text": [
      " 80%|████████  | 24/30 [00:05<00:01,  4.83it/s]"
     ]
    },
    {
     "name": "stdout",
     "output_type": "stream",
     "text": [
      "Downloaded https://m.media-amazon.com/images/I/71nywfWZUwL.jpg to D:\\Hackathon\\66e31d6ee96cd_student_resource_33\\student_resource 3\\dataset\\images\\71nywfWZUwL.jpg\n",
      "Attempting to download image from https://m.media-amazon.com/images/I/51WsuKKAVrL.jpg\n",
      "Downloaded https://m.media-amazon.com/images/I/51WsuKKAVrL.jpg to D:\\Hackathon\\66e31d6ee96cd_student_resource_33\\student_resource 3\\dataset\\images\\51WsuKKAVrL.jpg\n",
      "Attempting to download image from https://m.media-amazon.com/images/I/61XGDKap+JL.jpg\n"
     ]
    },
    {
     "name": "stderr",
     "output_type": "stream",
     "text": [
      " 87%|████████▋ | 26/30 [00:06<00:00,  5.69it/s]"
     ]
    },
    {
     "name": "stdout",
     "output_type": "stream",
     "text": [
      "Downloaded https://m.media-amazon.com/images/I/61XGDKap+JL.jpg to D:\\Hackathon\\66e31d6ee96cd_student_resource_33\\student_resource 3\\dataset\\images\\61XGDKap+JL.jpg\n",
      "Attempting to download image from https://m.media-amazon.com/images/I/715vVcWJxGL.jpg\n",
      "Downloaded https://m.media-amazon.com/images/I/715vVcWJxGL.jpg to D:\\Hackathon\\66e31d6ee96cd_student_resource_33\\student_resource 3\\dataset\\images\\715vVcWJxGL.jpg\n",
      "Attempting to download image from https://m.media-amazon.com/images/I/613v+2W4UwL.jpg\n"
     ]
    },
    {
     "name": "stderr",
     "output_type": "stream",
     "text": [
      " 93%|█████████▎| 28/30 [00:06<00:00,  5.60it/s]"
     ]
    },
    {
     "name": "stdout",
     "output_type": "stream",
     "text": [
      "Downloaded https://m.media-amazon.com/images/I/613v+2W4UwL.jpg to D:\\Hackathon\\66e31d6ee96cd_student_resource_33\\student_resource 3\\dataset\\images\\613v+2W4UwL.jpg\n",
      "Attempting to download image from https://m.media-amazon.com/images/I/71+fn9TWQmL.jpg\n",
      "Downloaded https://m.media-amazon.com/images/I/71+fn9TWQmL.jpg to D:\\Hackathon\\66e31d6ee96cd_student_resource_33\\student_resource 3\\dataset\\images\\71+fn9TWQmL.jpg\n",
      "Attempting to download image from https://m.media-amazon.com/images/I/71aKgRRQ2wL.jpg\n"
     ]
    },
    {
     "name": "stderr",
     "output_type": "stream",
     "text": [
      "100%|██████████| 30/30 [00:06<00:00,  4.40it/s]"
     ]
    },
    {
     "name": "stdout",
     "output_type": "stream",
     "text": [
      "Downloaded https://m.media-amazon.com/images/I/71aKgRRQ2wL.jpg to D:\\Hackathon\\66e31d6ee96cd_student_resource_33\\student_resource 3\\dataset\\images\\71aKgRRQ2wL.jpg\n",
      "Attempting to download image from https://m.media-amazon.com/images/I/71rKXZJrh4L.jpg\n",
      "Downloaded https://m.media-amazon.com/images/I/71rKXZJrh4L.jpg to D:\\Hackathon\\66e31d6ee96cd_student_resource_33\\student_resource 3\\dataset\\images\\71rKXZJrh4L.jpg\n"
     ]
    },
    {
     "name": "stderr",
     "output_type": "stream",
     "text": [
      "\n"
     ]
    }
   ],
   "source": [
    "import re\n",
    "import constants\n",
    "import os\n",
    "import pandas as pd\n",
    "import multiprocessing\n",
    "import time\n",
    "from tqdm import tqdm\n",
    "from pathlib import Path\n",
    "from functools import partial\n",
    "import urllib.request\n",
    "from PIL import Image\n",
    "\n",
    "def common_mistake(unit):\n",
    "    if unit in constants.allowed_units:\n",
    "        return unit\n",
    "    if unit.replace('ter', 'tre') in constants.allowed_units:\n",
    "        return unit.replace('ter', 'tre')\n",
    "    if unit.replace('feet', 'foot') in constants.allowed_units:\n",
    "        return unit.replace('feet', 'foot')\n",
    "    return unit\n",
    "\n",
    "def parse_string(s):\n",
    "    s_stripped = \"\" if s is None or str(s) == 'nan' else s.strip()\n",
    "    if s_stripped == \"\":\n",
    "        return None, None\n",
    "    pattern = re.compile(r'^-?\\d+(\\.\\d+)?\\s+[a-zA-Z\\s]+$')\n",
    "    if not pattern.match(s_stripped):\n",
    "        raise ValueError(f\"Invalid format in {s}\")\n",
    "    parts = s_stripped.split(maxsplit=1)\n",
    "    number = float(parts[0])\n",
    "    unit = common_mistake(parts[1])\n",
    "    if unit not in constants.allowed_units:\n",
    "        raise ValueError(f\"Invalid unit [{unit}] found in {s}. Allowed units: {constants.allowed_units}\")\n",
    "    return number, unit\n",
    "\n",
    "def create_placeholder_image(image_save_path):\n",
    "    try:\n",
    "        placeholder_image = Image.new('RGB', (100, 100), color='black')\n",
    "        placeholder_image.save(image_save_path)\n",
    "        print(f\"Placeholder image created at {image_save_path}\")\n",
    "    except Exception as e:\n",
    "        print(f\"Error creating placeholder image: {e}\")\n",
    "\n",
    "def download_image(image_link, save_folder, retries=3, delay=3):\n",
    "    if not isinstance(image_link, str) or not image_link.strip():\n",
    "        print(f\"Skipping invalid image link: {image_link}\")\n",
    "        return\n",
    "\n",
    "    try:\n",
    "        filename = Path(image_link).name\n",
    "        image_save_path = os.path.join(save_folder, filename)\n",
    "\n",
    "        if os.path.exists(image_save_path):\n",
    "            print(f\"Image already exists: {image_save_path}\")\n",
    "            return\n",
    "\n",
    "        print(f\"Attempting to download image from {image_link}\")\n",
    "\n",
    "        for attempt in range(retries):\n",
    "            try:\n",
    "                urllib.request.urlretrieve(image_link, image_save_path)\n",
    "                print(f\"Downloaded {image_link} to {image_save_path}\")\n",
    "                return\n",
    "            except Exception as e:\n",
    "                print(f\"Error on attempt {attempt+1} to download {image_link}: {e}\")\n",
    "                time.sleep(delay)\n",
    "\n",
    "        # Create a placeholder image if all download attempts fail\n",
    "        create_placeholder_image(image_save_path)\n",
    "    except Exception as e:\n",
    "        print(f\"Unhandled error with link {image_link}: {e}\")\n",
    "\n",
    "def download_images(image_links, download_folder, allow_multiprocessing=True):\n",
    "    if not os.path.exists(download_folder):\n",
    "        os.makedirs(download_folder)\n",
    "\n",
    "    if allow_multiprocessing:\n",
    "        download_image_partial = partial(\n",
    "            download_image, save_folder=download_folder, retries=3, delay=3)\n",
    "\n",
    "        num_workers = min(60, multiprocessing.cpu_count())\n",
    "\n",
    "        with multiprocessing.Pool(num_workers) as pool:\n",
    "            list(tqdm(pool.imap(download_image_partial, image_links), total=len(image_links)))\n",
    "            pool.close()\n",
    "            pool.join()\n",
    "    else:\n",
    "        for image_link in tqdm(image_links, total=len(image_links)):\n",
    "            download_image(image_link, save_folder=download_folder, retries=3, delay=3)\n",
    "\n",
    "# Step 1: Read cleaned data from CSV\n",
    "cleaned_csv_path = r\"D:\\Hackathon\\66e31d6ee96cd_student_resource_33\\student_resource 3\\dataset\\Weightt_cleaned.csv\"\n",
    "\n",
    "# Load the CSV file into a DataFrame, ensuring low_memory is set to False to handle mixed data types properly\n",
    "df = pd.read_csv(cleaned_csv_path, low_memory=False)\n",
    "\n",
    "# Step 2: Extract image links from the 'image_link' column\n",
    "# Convert all values to strings, drop NaNs, and strip whitespace to clean the links\n",
    "image_links = df['image_link'].astype(str).dropna().map(str.strip).tolist()\n",
    "\n",
    "# Limit to the first 30 image links\n",
    "image_links = image_links[:30]\n",
    "\n",
    "# Step 3: Set the folder where images will be downloaded\n",
    "download_folder = r\"D:\\Hackathon\\66e31d6ee96cd_student_resource_33\\student_resource 3\\dataset\\images\"\n",
    "\n",
    "# Step 4: Download images using the provided function\n",
    "download_images(image_links, download_folder, allow_multiprocessing=False)\n"
   ]
  }
 ],
 "metadata": {
  "kernelspec": {
   "display_name": "base",
   "language": "python",
   "name": "python3"
  },
  "language_info": {
   "codemirror_mode": {
    "name": "ipython",
    "version": 3
   },
   "file_extension": ".py",
   "mimetype": "text/x-python",
   "name": "python",
   "nbconvert_exporter": "python",
   "pygments_lexer": "ipython3",
   "version": "3.12.3"
  }
 },
 "nbformat": 4,
 "nbformat_minor": 2
}
